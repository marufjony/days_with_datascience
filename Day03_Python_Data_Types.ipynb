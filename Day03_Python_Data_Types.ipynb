{
  "nbformat": 4,
  "nbformat_minor": 0,
  "metadata": {
    "colab": {
      "provenance": []
    },
    "kernelspec": {
      "name": "python3",
      "display_name": "Python 3"
    },
    "language_info": {
      "name": "python"
    }
  },
  "cells": [
    {
      "cell_type": "markdown",
      "source": [
        " ### Data Types ✅\n",
        "In Python, data types represent the type of value that a variable can hold. Python is a dynamically typed language, meaning that you don't need to explicitly declare the data type of a variable; the interpreter infers it based on the value assigned to the variable. Here are some common data types in Python:\n",
        "\n",
        "1. **Numeric Types:**\n",
        "   - **int:** Integer data type represents whole numbers (positive or negative) without any decimal point."
      ],
      "metadata": {
        "id": "enY-kRTxnyr2"
      }
    },
    {
      "cell_type": "code",
      "execution_count": 10,
      "metadata": {
        "id": "0xJRMhHEnjLs"
      },
      "outputs": [],
      "source": [
        "x = 5\n",
        "y = 10"
      ]
    },
    {
      "cell_type": "markdown",
      "source": [
        "   - **float:** Float data type represents real numbers with a decimal point."
      ],
      "metadata": {
        "id": "vCtoE3sEn-pk"
      }
    },
    {
      "cell_type": "code",
      "source": [
        "pi = 3.14"
      ],
      "metadata": {
        "id": "eDQaSTZtoD0b"
      },
      "execution_count": 9,
      "outputs": []
    },
    {
      "cell_type": "markdown",
      "source": [
        "   - **complex:** Complex data type represents complex numbers in the form `a + bj`, where `a` and `b` are floats and `j` is the imaginary unit."
      ],
      "metadata": {
        "id": "GD6BpyWuoM_G"
      }
    },
    {
      "cell_type": "code",
      "source": [
        "z = 2 + 3j"
      ],
      "metadata": {
        "id": "9iuc1POxopIf"
      },
      "execution_count": 8,
      "outputs": []
    },
    {
      "cell_type": "markdown",
      "source": [
        "2. **Sequence Types:**\n",
        "   - **str:** String data type represents a sequence of characters enclosed in single or double quotes."
      ],
      "metadata": {
        "id": "yozDyV0tpo8p"
      }
    },
    {
      "cell_type": "code",
      "source": [
        "message = \"Hello, World this is Mr. X\""
      ],
      "metadata": {
        "id": "fpuUKwwkpvak"
      },
      "execution_count": 7,
      "outputs": []
    },
    {
      "cell_type": "markdown",
      "source": [
        "   - **list:** List is an ordered collection that can contain elements of different data types."
      ],
      "metadata": {
        "id": "8fkRck2jtdmA"
      }
    },
    {
      "cell_type": "code",
      "source": [
        "numbers = [1, 2, 3, 4, 5]"
      ],
      "metadata": {
        "id": "f6Or62yVt93n"
      },
      "execution_count": 6,
      "outputs": []
    },
    {
      "cell_type": "markdown",
      "source": [
        "   - **tuple:** Tuple is similar to a list, but it is immutable (cannot be changed after creation)."
      ],
      "metadata": {
        "id": "N79J_b0MuQ5f"
      }
    },
    {
      "cell_type": "code",
      "source": [
        "ccordinates = (3, 4)"
      ],
      "metadata": {
        "id": "ZugVInNTueV7"
      },
      "execution_count": 5,
      "outputs": []
    },
    {
      "cell_type": "markdown",
      "source": [
        "3. **Set Types:**\n",
        "   - **set:** Set is an unordered collection of unique elements."
      ],
      "metadata": {
        "id": "57GJAANhukbJ"
      }
    },
    {
      "cell_type": "code",
      "source": [
        "fruits = {\"apple\", \"orange\", \"banana\"}"
      ],
      "metadata": {
        "id": "3B6ZNKcdu0Xy"
      },
      "execution_count": 4,
      "outputs": []
    },
    {
      "cell_type": "markdown",
      "source": [
        "4. **Mapping Type:**\n",
        "   - **dict:** Dictionary is an unordered collection of key-value pairs."
      ],
      "metadata": {
        "id": "lrmqN7lftHhy"
      }
    },
    {
      "cell_type": "code",
      "source": [
        "person = {\"name\": \"John\", \"age\": 25, \"city\": \"New York\"}"
      ],
      "metadata": {
        "id": "ytmhxuxVt4gp"
      },
      "execution_count": 3,
      "outputs": []
    },
    {
      "cell_type": "markdown",
      "source": [
        "5. **Boolean Type:**\n",
        "   - **bool:** Boolean data type represents either True or False."
      ],
      "metadata": {
        "id": "EplcdCl0uD45"
      }
    },
    {
      "cell_type": "code",
      "source": [
        "is_valid = True"
      ],
      "metadata": {
        "id": "m1D9eX_luSQi"
      },
      "execution_count": 2,
      "outputs": []
    },
    {
      "cell_type": "markdown",
      "source": [
        "6. **None Type:**\n",
        "   - **NoneType:** The `None` type represents the absence of a value or a null value."
      ],
      "metadata": {
        "id": "_hTo53MCuZK0"
      }
    },
    {
      "cell_type": "code",
      "source": [
        "empty_variable = None"
      ],
      "metadata": {
        "id": "nJP0l5qWufLM"
      },
      "execution_count": 1,
      "outputs": []
    },
    {
      "cell_type": "markdown",
      "source": [],
      "metadata": {
        "id": "cYmLf2O3ukCS"
      }
    }
  ]
}