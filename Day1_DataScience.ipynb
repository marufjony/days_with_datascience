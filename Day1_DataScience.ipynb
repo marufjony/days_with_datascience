{
  "nbformat": 4,
  "nbformat_minor": 0,
  "metadata": {
    "colab": {
      "provenance": []
    },
    "kernelspec": {
      "name": "python3",
      "display_name": "Python 3"
    },
    "language_info": {
      "name": "python"
    }
  },
  "cells": [
    {
      "cell_type": "markdown",
      "source": [
        "### Data Science Study: Day 1\n",
        "Today I am starting to log Data Science practices so that I can keep trck! Happy Journey ahead ✈."
      ],
      "metadata": {
        "id": "JKs0hOFVtVIc"
      }
    },
    {
      "cell_type": "markdown",
      "source": [
        "### Python\n",
        "Python is a widely-used general-purpose,\n",
        "high-level, interpreted programming language. It was created by\n",
        "Guido van Rossum in 1991 and further developed by the Python Software Foundation. It was designed with an emphasis on code readability, and its syntax allows programmers to express their concepts in fewer lines of code.\n",
        "\n",
        "* General-purpose programming language, which means it can be used for a wide range of applications and domains.\n",
        "\n",
        "* High-Level and Readable means it easier for humans to read and write.\n",
        "\n",
        "* Interpreted Language, meaning that the source code is executed line by line by an interpreter, without the need for compilation.\n",
        "\n",
        "* Dynamically Typed, which means you don't need to declare the data type of a variable explicitly. This leads to more concise and flexible code.\n",
        "\n",
        "Python comes with a vast standard library that includes modules and packages for various purposes, such as file I/O, web development, data manipulation, and more. This reduces the need for external dependencies in many cases.\n",
        "\n",
        "Python has a vibrant and active community of developers who contribute to its growth. The language has a rich ecosystem of libraries and frameworks that cover diverse domains, such as web development (Django, Flask), data science (NumPy, pandas), machine learning (TensorFlow, PyTorch), and more.\n",
        "\n",
        "Cross-Platform Compatibility:\n",
        "\n",
        "Python is cross-platform, meaning that code written in Python can run on different operating systems without modification.\n",
        "\n",
        "It is used for:\n",
        "*   System Scripting\n",
        "*   Web Development\n",
        "*   Game Development\n",
        "*   Software Development\n",
        "*   Complex Mathematicsm\n",
        "*   Data Analysis\n",
        "\n",
        "\n",
        "\n"
      ],
      "metadata": {
        "id": "26q00mg0wUC3"
      }
    }
  ]
}